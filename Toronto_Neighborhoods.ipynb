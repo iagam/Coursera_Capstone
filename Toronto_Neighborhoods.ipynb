{
 "cells": [
  {
   "cell_type": "code",
   "execution_count": 81,
   "metadata": {},
   "outputs": [],
   "source": [
    "import numpy as np\n",
    "import pandas as pd\n",
    "import requests\n",
    "from bs4 import BeautifulSoup"
   ]
  },
  {
   "cell_type": "code",
   "execution_count": 101,
   "metadata": {},
   "outputs": [],
   "source": [
    "url = requests.get('https://en.wikipedia.org/wiki/List_of_postal_codes_of_Canada:_M').text"
   ]
  },
  {
   "cell_type": "code",
   "execution_count": 102,
   "metadata": {},
   "outputs": [],
   "source": [
    "soup = BeautifulSoup(url,'lxml')"
   ]
  },
  {
   "cell_type": "code",
   "execution_count": 223,
   "metadata": {},
   "outputs": [
    {
     "data": {
      "text/html": [
       "<div>\n",
       "<style scoped>\n",
       "    .dataframe tbody tr th:only-of-type {\n",
       "        vertical-align: middle;\n",
       "    }\n",
       "\n",
       "    .dataframe tbody tr th {\n",
       "        vertical-align: top;\n",
       "    }\n",
       "\n",
       "    .dataframe thead th {\n",
       "        text-align: right;\n",
       "    }\n",
       "</style>\n",
       "<table border=\"1\" class=\"dataframe\">\n",
       "  <thead>\n",
       "    <tr style=\"text-align: right;\">\n",
       "      <th></th>\n",
       "      <th>Borough</th>\n",
       "      <th>Neighborhood</th>\n",
       "      <th>PostalCode</th>\n",
       "    </tr>\n",
       "  </thead>\n",
       "  <tbody>\n",
       "    <tr>\n",
       "      <td>0</td>\n",
       "      <td>Not assigned</td>\n",
       "      <td>Mimico NW / The Queensway West / South of Bloo...</td>\n",
       "      <td>M1A</td>\n",
       "    </tr>\n",
       "    <tr>\n",
       "      <td>1</td>\n",
       "      <td>Not assigned</td>\n",
       "      <td>Mimico NW / The Queensway West / South of Bloo...</td>\n",
       "      <td>M2A</td>\n",
       "    </tr>\n",
       "    <tr>\n",
       "      <td>2</td>\n",
       "      <td>North York</td>\n",
       "      <td>Parkwoods</td>\n",
       "      <td>M3A</td>\n",
       "    </tr>\n",
       "    <tr>\n",
       "      <td>3</td>\n",
       "      <td>North York</td>\n",
       "      <td>Victoria Village</td>\n",
       "      <td>M4A</td>\n",
       "    </tr>\n",
       "    <tr>\n",
       "      <td>4</td>\n",
       "      <td>Downtown Toronto</td>\n",
       "      <td>Regent Park / Harbourfront</td>\n",
       "      <td>M5A</td>\n",
       "    </tr>\n",
       "  </tbody>\n",
       "</table>\n",
       "</div>"
      ],
      "text/plain": [
       "            Borough                                       Neighborhood  \\\n",
       "0      Not assigned  Mimico NW / The Queensway West / South of Bloo...   \n",
       "1      Not assigned  Mimico NW / The Queensway West / South of Bloo...   \n",
       "2        North York                                          Parkwoods   \n",
       "3        North York                                   Victoria Village   \n",
       "4  Downtown Toronto                         Regent Park / Harbourfront   \n",
       "\n",
       "  PostalCode  \n",
       "0        M1A  \n",
       "1        M2A  \n",
       "2        M3A  \n",
       "3        M4A  \n",
       "4        M5A  "
      ]
     },
     "execution_count": 223,
     "metadata": {},
     "output_type": "execute_result"
    }
   ],
   "source": [
    "# Scrape the data and build a pandas dataframe\n",
    "\n",
    "prop = pd.DataFrame()\n",
    "\n",
    "for i in soup.find_all('td'):\n",
    "    try:\n",
    "        postalcode = i.p.b.text\n",
    "    except:\n",
    "        None\n",
    "    try:\n",
    "        borough = i.span.text.split(\"(\")[0]\n",
    "    except:\n",
    "        None\n",
    "    try:\n",
    "        neighborhood = i.span.text.split(\"(\")[1].rstrip(\")\")\n",
    "    except:\n",
    "        None\n",
    "    data_dict = {'PostalCode':postalcode,\n",
    "                'Borough':borough,\n",
    "                'Neighborhood':neighborhood}\n",
    "    prop = prop.append(data_dict, ignore_index=True)\n",
    "prop.head()"
   ]
  },
  {
   "cell_type": "code",
   "execution_count": 224,
   "metadata": {},
   "outputs": [],
   "source": [
    "# Dropping the NaN values from the dataframe\n",
    "\n",
    "prop.replace(['Not assigned',\"\"],np.nan,inplace=True)\n",
    "prop.dropna(inplace=True)"
   ]
  },
  {
   "cell_type": "code",
   "execution_count": 249,
   "metadata": {},
   "outputs": [],
   "source": [
    "# Assigning the Borough Name for neighbourhoods that don't have a neighborhood.\n",
    "\n",
    "prop.loc[168]['Neighborhood'] = \"East Toronto\"\n",
    "prop.loc[6]['Neighborhood'] = \"Queen's Park\"\n",
    "prop.loc[148]['Neighborhood'] = \"Downtown Toronto\"\n",
    "prop.loc[114]['Neighborhood'] = \"Mississauga\""
   ]
  },
  {
   "cell_type": "code",
   "execution_count": 245,
   "metadata": {},
   "outputs": [],
   "source": [
    "# Cleaning the names of the neighborhoods\n",
    "\n",
    "borough = []\n",
    "for i in prop.Borough:\n",
    "    if i == \"MississaugaCanada Post Gateway Processing Centre\":\n",
    "        borough.append(\"Mississauga\")\n",
    "    elif i == \"East TorontoBusiness reply mail Processing Centre969 Eastern\":\n",
    "        borough.append(\"East Toronto\")\n",
    "    elif i == \"Downtown TorontoStn A PO Boxes25 The Esplanade\":\n",
    "        borough.append(\"Downtown Toronto\")\n",
    "    elif i == \"Queen's Park / Ontario Provincial Government\":\n",
    "        borough.append(\"Queen's Park\")\n",
    "    else:\n",
    "        borough.append(i)\n",
    "\n",
    "prop['Borough'] = borough"
   ]
  },
  {
   "cell_type": "code",
   "execution_count": 256,
   "metadata": {},
   "outputs": [],
   "source": [
    "# Separating multiple neighborhoods  by comma\n",
    "\n",
    "neigh = []\n",
    "for i in prop.Neighborhood:\n",
    "    neigh.append(\",\".join(i.split(\"/\")))\n",
    "    \n",
    "prop['Neighborhood'] = neigh"
   ]
  },
  {
   "cell_type": "code",
   "execution_count": 260,
   "metadata": {},
   "outputs": [
    {
     "data": {
      "text/html": [
       "<div>\n",
       "<style scoped>\n",
       "    .dataframe tbody tr th:only-of-type {\n",
       "        vertical-align: middle;\n",
       "    }\n",
       "\n",
       "    .dataframe tbody tr th {\n",
       "        vertical-align: top;\n",
       "    }\n",
       "\n",
       "    .dataframe thead th {\n",
       "        text-align: right;\n",
       "    }\n",
       "</style>\n",
       "<table border=\"1\" class=\"dataframe\">\n",
       "  <thead>\n",
       "    <tr style=\"text-align: right;\">\n",
       "      <th></th>\n",
       "      <th>Borough</th>\n",
       "      <th>Neighborhood</th>\n",
       "      <th>PostalCode</th>\n",
       "    </tr>\n",
       "  </thead>\n",
       "  <tbody>\n",
       "    <tr>\n",
       "      <td>2</td>\n",
       "      <td>North York</td>\n",
       "      <td>Parkwoods</td>\n",
       "      <td>M3A</td>\n",
       "    </tr>\n",
       "    <tr>\n",
       "      <td>3</td>\n",
       "      <td>North York</td>\n",
       "      <td>Victoria Village</td>\n",
       "      <td>M4A</td>\n",
       "    </tr>\n",
       "    <tr>\n",
       "      <td>4</td>\n",
       "      <td>Downtown Toronto</td>\n",
       "      <td>Regent Park , Harbourfront</td>\n",
       "      <td>M5A</td>\n",
       "    </tr>\n",
       "    <tr>\n",
       "      <td>5</td>\n",
       "      <td>North York</td>\n",
       "      <td>Lawrence Manor , Lawrence Heights</td>\n",
       "      <td>M6A</td>\n",
       "    </tr>\n",
       "    <tr>\n",
       "      <td>6</td>\n",
       "      <td>Queen's Park</td>\n",
       "      <td>Queen's Park</td>\n",
       "      <td>M7A</td>\n",
       "    </tr>\n",
       "  </tbody>\n",
       "</table>\n",
       "</div>"
      ],
      "text/plain": [
       "            Borough                       Neighborhood PostalCode\n",
       "2        North York                          Parkwoods        M3A\n",
       "3        North York                   Victoria Village        M4A\n",
       "4  Downtown Toronto         Regent Park , Harbourfront        M5A\n",
       "5        North York  Lawrence Manor , Lawrence Heights        M6A\n",
       "6      Queen's Park                       Queen's Park        M7A"
      ]
     },
     "execution_count": 260,
     "metadata": {},
     "output_type": "execute_result"
    }
   ],
   "source": [
    "# Printing the final dataframe\n",
    "\n",
    "prop.head()"
   ]
  },
  {
   "cell_type": "code",
   "execution_count": 261,
   "metadata": {},
   "outputs": [
    {
     "name": "stdout",
     "output_type": "stream",
     "text": [
      "(103, 3)\n"
     ]
    }
   ],
   "source": [
    "# Printing the final shape of the dataframe\n",
    "print(prop.shape)"
   ]
  },
  {
   "cell_type": "code",
   "execution_count": null,
   "metadata": {},
   "outputs": [],
   "source": []
  }
 ],
 "metadata": {
  "kernelspec": {
   "display_name": "Python 3",
   "language": "python",
   "name": "python3"
  },
  "language_info": {
   "codemirror_mode": {
    "name": "ipython",
    "version": 3
   },
   "file_extension": ".py",
   "mimetype": "text/x-python",
   "name": "python",
   "nbconvert_exporter": "python",
   "pygments_lexer": "ipython3",
   "version": "3.7.4"
  }
 },
 "nbformat": 4,
 "nbformat_minor": 2
}
